{
 "cells": [
  {
   "cell_type": "code",
   "execution_count": 2,
   "metadata": {},
   "outputs": [
    {
     "name": "stdout",
     "output_type": "stream",
     "text": [
      "79\n"
     ]
    }
   ],
   "source": [
    "import os\n",
    "from scipy.io import wavfile\n",
    "import json\n",
    "import ast\n",
    "import numpy as np\n",
    "\n",
    "jsonDirPath = '/Users/Chen/百度云同步盘/Startup/Clevo/联动数据/emotionJson/'\n",
    "jsonSavePath = '/Users/Chen/百度云同步盘/Startup/Clevo/联动数据/emotionJsonSegs/'\n",
    "\n",
    "if (os.path.isdir(jsonDirPath)!=True):\n",
    "    raise ValueError('jsonDirPath is not a dir')\n",
    "if (os.path.isdir(jsonSavePath)!=True):\n",
    "    raise ValueError('jsonSavePath is not a dir')\n",
    "\n",
    "jsonArr = os.listdir(jsonDirPath)\n",
    "\n",
    "print(len(jsonArr))\n",
    "\n"
   ]
  },
  {
   "cell_type": "code",
   "execution_count": 12,
   "metadata": {},
   "outputs": [
    {
     "name": "stdout",
     "output_type": "stream",
     "text": [
      "0 20170623080540_956_13668204817_601.json\n",
      "{'Primary': {'Phrase': 'Love, Happiness', 'Id': 8}, 'Secondary': {'Phrase': 'Love, Happiness', 'Id': 8}}\n"
     ]
    }
   ],
   "source": [
    "for i,fileName in enumerate(jsonArr[0:1]):\n",
    "    print(i,fileName)\n",
    "    filePath = jsonDirPath + fileName\n",
    "    with open(filePath, 'r', encoding = 'utf-8') as f:\n",
    "        data = f.read()\n",
    "        d = ast.literal_eval(data)\n",
    "        print(d['result']['analysisSegments'][0]['analysis']['Mood']['Group11'])\n",
    "#         print(d['result']['analysisSegments'][0]['analysis'])\n",
    "\n",
    "    "
   ]
  },
  {
   "cell_type": "code",
   "execution_count": null,
   "metadata": {
    "collapsed": true
   },
   "outputs": [],
   "source": []
  }
 ],
 "metadata": {
  "kernelspec": {
   "display_name": "Python 3",
   "language": "python",
   "name": "python3"
  },
  "language_info": {
   "codemirror_mode": {
    "name": "ipython",
    "version": 3
   },
   "file_extension": ".py",
   "mimetype": "text/x-python",
   "name": "python",
   "nbconvert_exporter": "python",
   "pygments_lexer": "ipython3",
   "version": "3.5.4"
  }
 },
 "nbformat": 4,
 "nbformat_minor": 2
}
