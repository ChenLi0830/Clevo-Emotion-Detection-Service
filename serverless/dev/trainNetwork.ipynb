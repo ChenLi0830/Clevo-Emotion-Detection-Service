{
 "cells": [
  {
   "cell_type": "code",
   "execution_count": 1,
   "metadata": {},
   "outputs": [
    {
     "name": "stderr",
     "output_type": "stream",
     "text": [
      "Using TensorFlow backend.\n"
     ]
    }
   ],
   "source": [
    "'''Trains a simple convnet on the MNIST dataset.\n",
    "Gets to 99.25% test accuracy after 12 epochs\n",
    "(there is still a lot of margin for parameter tuning).\n",
    "16 seconds per epoch on a GRID K520 GPU.\n",
    "'''\n",
    "\n",
    "from __future__ import print_function\n",
    "import keras\n",
    "from keras.datasets import mnist\n",
    "from keras.models import Sequential\n",
    "from keras.layers import Dense, Dropout, Flatten\n",
    "from keras.layers import Conv2D, MaxPooling2D\n",
    "from keras import backend as K\n",
    "\n",
    "batch_size = 128\n",
    "num_classes = 10\n",
    "epochs = 12\n"
   ]
  },
  {
   "cell_type": "code",
   "execution_count": 3,
   "metadata": {},
   "outputs": [
    {
     "name": "stdout",
     "output_type": "stream",
     "text": [
      "(60000, 28, 28) (60000,) (10000, 28, 28) (10000,)\n",
      "x_train shape: (60000, 28, 28, 1)\n",
      "60000 train samples\n",
      "10000 test samples\n",
      "Train on 48000 samples, validate on 12000 samples\n",
      "Epoch 1/12\n",
      "48000/48000 [==============================] - 117s - loss: 0.3970 - acc: 0.8761 - val_loss: 0.1039 - val_acc: 0.9702\n",
      "Epoch 2/12\n",
      "48000/48000 [==============================] - 112s - loss: 0.1365 - acc: 0.9587 - val_loss: 0.0724 - val_acc: 0.9798\n",
      "Epoch 3/12\n",
      "48000/48000 [==============================] - 109s - loss: 0.1008 - acc: 0.9700 - val_loss: 0.0627 - val_acc: 0.9820\n",
      "Epoch 4/12\n",
      "48000/48000 [==============================] - 109s - loss: 0.0849 - acc: 0.9751 - val_loss: 0.0541 - val_acc: 0.9850\n",
      "Epoch 5/12\n",
      "48000/48000 [==============================] - 108s - loss: 0.0746 - acc: 0.9774 - val_loss: 0.0487 - val_acc: 0.9869\n",
      "Epoch 6/12\n",
      "48000/48000 [==============================] - 110s - loss: 0.0633 - acc: 0.9801 - val_loss: 0.0479 - val_acc: 0.9870\n",
      "Epoch 7/12\n",
      "48000/48000 [==============================] - 110s - loss: 0.0595 - acc: 0.9819 - val_loss: 0.0434 - val_acc: 0.9878\n",
      "Epoch 8/12\n",
      "48000/48000 [==============================] - 110s - loss: 0.0532 - acc: 0.9843 - val_loss: 0.0433 - val_acc: 0.9884\n",
      "Epoch 9/12\n",
      "48000/48000 [==============================] - 113s - loss: 0.0489 - acc: 0.9849 - val_loss: 0.0438 - val_acc: 0.9879\n",
      "Epoch 10/12\n",
      "48000/48000 [==============================] - 108s - loss: 0.0448 - acc: 0.9865 - val_loss: 0.0441 - val_acc: 0.9884\n",
      "Epoch 11/12\n",
      "48000/48000 [==============================] - 112s - loss: 0.0426 - acc: 0.9873 - val_loss: 0.0423 - val_acc: 0.9882\n",
      "Epoch 12/12\n",
      "48000/48000 [==============================] - 114s - loss: 0.0411 - acc: 0.9880 - val_loss: 0.0412 - val_acc: 0.9892\n",
      "Test loss: 0.0318392477482\n",
      "Test accuracy: 0.9894\n"
     ]
    }
   ],
   "source": [
    "\n",
    "# input image dimensions\n",
    "img_rows, img_cols = 28, 28\n",
    "\n",
    "# the data, shuffled and split between train and test sets\n",
    "(x_train, y_train), (x_test, y_test) = mnist.load_data()\n",
    "\n",
    "print(x_train.shape, y_train.shape, x_test.shape, y_test.shape)\n",
    "\n",
    "if K.image_data_format() == 'channels_first':\n",
    "    x_train = x_train.reshape(x_train.shape[0], 1, img_rows, img_cols)\n",
    "    x_test = x_test.reshape(x_test.shape[0], 1, img_rows, img_cols)\n",
    "    input_shape = (1, img_rows, img_cols)\n",
    "else:\n",
    "    x_train = x_train.reshape(x_train.shape[0], img_rows, img_cols, 1)\n",
    "    x_test = x_test.reshape(x_test.shape[0], img_rows, img_cols, 1)\n",
    "    input_shape = (img_rows, img_cols, 1)\n",
    "\n",
    "x_train = x_train.astype('float32')\n",
    "x_test = x_test.astype('float32')\n",
    "x_train /= 255\n",
    "x_test /= 255\n",
    "print('x_train shape:', x_train.shape)\n",
    "print(x_train.shape[0], 'train samples')\n",
    "print(x_test.shape[0], 'test samples')\n",
    "\n",
    "# convert class vectors to binary class matrices\n",
    "y_train = keras.utils.to_categorical(y_train, num_classes)\n",
    "y_test = keras.utils.to_categorical(y_test, num_classes)\n",
    "\n",
    "model = Sequential()\n",
    "model.add(Conv2D(32, kernel_size=(3, 3),\n",
    "                 activation='relu',\n",
    "                 input_shape=input_shape))\n",
    "model.add(Conv2D(64, (3, 3), activation='relu'))\n",
    "model.add(MaxPooling2D(pool_size=(2, 2)))\n",
    "model.add(Dropout(0.25))\n",
    "model.add(Flatten())\n",
    "model.add(Dense(128, activation='relu'))\n",
    "model.add(Dropout(0.5))\n",
    "model.add(Dense(num_classes, activation='softmax'))\n",
    "\n",
    "model.compile(loss=keras.losses.categorical_crossentropy,\n",
    "              optimizer=keras.optimizers.Adadelta(),\n",
    "              metrics=['accuracy'])\n",
    "\n",
    "model.fit(x_train, y_train,\n",
    "          batch_size=batch_size,\n",
    "          epochs=epochs,\n",
    "          verbose=1,\n",
    "          validation_split = 0.2\n",
    "#           validation_data=(x_test, y_test)\n",
    "         )\n",
    "score = model.evaluate(x_test, y_test, verbose=0)\n",
    "print('Test loss:', score[0])\n",
    "print('Test accuracy:', score[1])"
   ]
  },
  {
   "cell_type": "code",
   "execution_count": null,
   "metadata": {
    "collapsed": true
   },
   "outputs": [],
   "source": []
  }
 ],
 "metadata": {
  "kernelspec": {
   "display_name": "Python 3",
   "language": "python",
   "name": "python3"
  },
  "language_info": {
   "codemirror_mode": {
    "name": "ipython",
    "version": 3
   },
   "file_extension": ".py",
   "mimetype": "text/x-python",
   "name": "python",
   "nbconvert_exporter": "python",
   "pygments_lexer": "ipython3",
   "version": "3.5.4"
  }
 },
 "nbformat": 4,
 "nbformat_minor": 2
}
