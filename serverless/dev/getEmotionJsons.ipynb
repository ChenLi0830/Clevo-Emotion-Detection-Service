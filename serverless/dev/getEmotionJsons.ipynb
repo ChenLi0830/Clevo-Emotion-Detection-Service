{
 "cells": [
  {
   "cell_type": "code",
   "execution_count": 1,
   "metadata": {},
   "outputs": [
    {
     "name": "stdout",
     "output_type": "stream",
     "text": [
      "0\n",
      "2406\n"
     ]
    }
   ],
   "source": [
    "import os\n",
    "from scipy.io import wavfile\n",
    "import json\n",
    "import ast\n",
    "import numpy as np\n",
    "\n",
    "jsonDirPath = '/Users/Chen/百度云同步盘/Startup/Clevo/联动数据/emotionJson/'\n",
    "wavDirPath = '/Users/Chen/百度云同步盘/Startup/Clevo/联动数据/wav/'\n",
    "\n",
    "if (os.path.isdir(jsonDirPath)!=True):\n",
    "    raise ValueError('jsonDirPath is not a dir')\n",
    "if (os.path.isdir(wavDirPath)!=True):\n",
    "    raise ValueError('wavDirPath is not a dir')\n",
    "\n",
    "jsonArr = os.listdir(jsonDirPath)\n",
    "wavArr = os.listdir(wavDirPath)\n",
    "print(len(jsonArr))\n",
    "print(len(wavArr))\n",
    "\n"
   ]
  },
  {
   "cell_type": "code",
   "execution_count": 4,
   "metadata": {},
   "outputs": [
    {
     "name": "stdout",
     "output_type": "stream",
     "text": [
      "{\"status\": \"success\", \"recordingId\": \"58f90478-6b15-42e0-af14-e8f432eafac1\", \"result\": {\"analysisSummary\": {\"AnalysisResult\": {\"Arousal\": {\"Mode\": \"neutral\", \"ModePct\": \"100.00\"}, \"Temper\": {\"Mode\": \"medium\", \"ModePct\": \"100.00\"}, \"Valence\": {\"Mode\": \"neutral\", \"ModePct\": \"100.00\"}}}, \"duration\": \"140184.00\", \"sessionStatus\": \"Done\", \"analysisSegments\": [{\"duration\": 10000, \"analysis\": {\"Arousal\": {\"Value\": \"58.00\", \"Score\": \"64.00\", \"Group\": \"neutral\"}, \"Temper\": {\"Value\": \"48.00\", \"Score\": \"78.00\", \"Group\": \"medium\"}, \"Valence\": {\"Value\": \"44.00\", \"Score\": \"56.00\", \"Group\": \"neutral\"}, \"Mood\": {\"Composite\": {\"Primary\": {\"Phrase\": \"Empathy and warmth.\", \"Id\": 119}, \"Secondary\": {\"Phrase\": \"Love, joy, happiness, enthusiasm.\", \"Id\": 224}}, \"Group11\": {\"Primary\": {\"Phrase\": \"Love, Happiness\", \"Id\": 8}, \"Secondary\": {\"Phrase\": \"Love, Happiness\", \"Id\": 8}}, \"Group21\": {\"Primary\": {\"Phrase\": \"desire\", \"Id\": 6}, \"Secondary\": {\"Phrase\": \"love\", \"Id\": 17}}}}, \"end\": 10000, \"offset\": 0}, {\"duration\": 10000, \"analysis\": {\"Arousal\": {\"Value\": \"57.00\", \"Score\": \"67.00\", \"Group\": \"neutral\"}, \"Temper\": {\"Value\": \"48.00\", \"Score\": \"80.00\", \"Group\": \"medium\"}, \"Valence\": {\"Value\": \"52.00\", \"Score\": \"62.00\", \"Group\": \"neutral\"}, \"Mood\": {\"Composite\": {\"Primary\": {\"Phrase\": \"Sentimental, romantic, controlled by emotion.\", \"Id\": 128}, \"Secondary\": {\"Phrase\": \"Happiness, satisfaction, love.\", \"Id\": 233}}, \"Group11\": {\"Primary\": {\"Phrase\": \"Love, Happiness\", \"Id\": 8}, \"Secondary\": {\"Phrase\": \"Love, Happiness\", \"Id\": 8}}, \"Group21\": {\"Primary\": {\"Phrase\": \"love\", \"Id\": 17}, \"Secondary\": {\"Phrase\": \"happiness\", \"Id\": 12}}}}, \"end\": 15000, \"offset\": 5000}, {\"duration\": 10000, \"analysis\": {\"Arousal\": {\"Value\": \"54.00\", \"Score\": \"68.00\", \"Group\": \"neutral\"}, \"Temper\": {\"Value\": \"46.00\", \"Score\": \"76.00\", \"Group\": \"medium\"}, \"Valence\": {\"Value\": -1, \"Score\": 0, \"Group\": \"ambiguous\"}, \"Mood\": {\"Composite\": {\"Primary\": {\"Phrase\": \"Love, joy, happiness, enthusiasm.\", \"Id\": 224}, \"Secondary\": {\"Phrase\": \"Love, joy, happiness.\", \"Id\": 92}}, \"Group11\": {\"Primary\": {\"Phrase\": \"Love, Happiness\", \"Id\": 8}, \"Secondary\": {\"Phrase\": \"Love, Happiness\", \"Id\": 8}}, \"Group21\": {\"Primary\": {\"Phrase\": \"love\", \"Id\": 17}, \"Secondary\": {\"Phrase\": \"love\", \"Id\": 17}}}}, \"end\": 20000, \"offset\": 10000}, {\"duration\": 10000, \"analysis\": {\"Arousal\": {\"Value\": \"53.00\", \"Score\": \"69.00\", \"Group\": \"neutral\"}, \"Temper\": {\"Value\": \"45.00\", \"Score\": \"75.00\", \"Group\": \"medium\"}, \"Valence\": {\"Value\": \"62.00\", \"Score\": \"56.00\", \"Group\": \"neutral\"}, \"Mood\": {\"Composite\": {\"Primary\": {\"Phrase\": \"Thrill seeking. Passionate communication. Flirting.\", \"Id\": 296}, \"Secondary\": {\"Phrase\": \"Optimistic communication based on hope, faith.\", \"Id\": 281}}, \"Group11\": {\"Primary\": {\"Phrase\": \"Creative, Passionate\", \"Id\": 1}, \"Secondary\": {\"Phrase\": \"Leadership, Charisma\", \"Id\": 6}}, \"Group21\": {\"Primary\": {\"Phrase\": \"creativity\", \"Id\": 5}, \"Secondary\": {\"Phrase\": \"creativity\", \"Id\": 5}}}}, \"end\": 25000, \"offset\": 15000}, {\"duration\": 10000, \"analysis\": {\"Arousal\": {\"Value\": \"51.00\", \"Score\": \"68.00\", \"Group\": \"neutral\"}, \"Temper\": {\"Value\": \"44.00\", \"Score\": \"69.00\", \"Group\": \"medium\"}, \"Valence\": {\"Value\": \"37.00\", \"Score\": \"57.00\", \"Group\": \"neutral\"}, \"Mood\": {\"Composite\": {\"Primary\": {\"Phrase\": \"Feelings of accomplishment, creativity, fulfillment.\", \"Id\": 80}, \"Secondary\": {\"Phrase\": \"Conflict between desires and actual behavior. Detail oriented.\", \"Id\": 149}}, \"Group11\": {\"Primary\": {\"Phrase\": \"Creative, Passionate\", \"Id\": 1}, \"Secondary\": {\"Phrase\": \"Creative, Passionate\", \"Id\": 1}}, \"Group21\": {\"Primary\": {\"Phrase\": \"creativity\", \"Id\": 5}, \"Secondary\": {\"Phrase\": \"self control\", \"Id\": 19}}}}, \"end\": 30000, \"offset\": 20000}, {\"duration\": 10000, \"analysis\": {\"Arousal\": {\"Value\": \"49.00\", \"Score\": \"68.00\", \"Group\": \"neutral\"}, \"Temper\": {\"Value\": \"42.00\", \"Score\": \"66.00\", \"Group\": \"medium\"}, \"Valence\": {\"Value\": -1, \"Score\": 0, \"Group\": \"ambiguous\"}, \"Mood\": {\"Composite\": {\"Primary\": {\"Phrase\": \"Feelings of accomplishment, creativity, fulfillment.\", \"Id\": 80}, \"Secondary\": {\"Phrase\": \"Strong drive.\", \"Id\": 41}}, \"Group11\": {\"Primary\": {\"Phrase\": \"Creative, Passionate\", \"Id\": 1}, \"Secondary\": {\"Phrase\": \"Leadership, Charisma\", \"Id\": 6}}, \"Group21\": {\"Primary\": {\"Phrase\": \"creativity\", \"Id\": 5}, \"Secondary\": {\"Phrase\": \"motivation\", \"Id\": 18}}}}, \"end\": 35000, \"offset\": 25000}, {\"duration\": 10000, \"analysis\": {\"Arousal\": {\"Value\": \"49.00\", \"Score\": \"68.00\", \"Group\": \"neutral\"}, \"Temper\": {\"Value\": \"42.00\", \"Score\": \"65.00\", \"Group\": \"medium\"}, \"Valence\": {\"Value\": -1, \"Score\": 0, \"Group\": \"ambiguous\"}, \"Mood\": {\"Composite\": {\"Primary\": {\"Phrase\": \"Assertiveness and ambition to achieve goals.\", \"Id\": 2}, \"Secondary\": {\"Phrase\": \"Commanding, authoritative communication.\", \"Id\": 323}}, \"Group11\": {\"Primary\": {\"Phrase\": \"Creative, Passionate\", \"Id\": 1}, \"Secondary\": {\"Phrase\": \"Supremacy, Arrogance\", \"Id\": 11}}, \"Group21\": {\"Primary\": {\"Phrase\": \"motivation\", \"Id\": 18}, \"Secondary\": {\"Phrase\": \"dominance\", \"Id\": 8}}}}, \"end\": 40000, \"offset\": 30000}, {\"duration\": 10000, \"analysis\": {\"Arousal\": {\"Value\": \"49.00\", \"Score\": \"68.00\", \"Group\": \"neutral\"}, \"Temper\": {\"Value\": \"41.00\", \"Score\": \"65.00\", \"Group\": \"medium\"}, \"Valence\": {\"Value\": -1, \"Score\": 0, \"Group\": \"ambiguous\"}, \"Mood\": {\"Composite\": {\"Primary\": {\"Phrase\": \"Friendly closeness. \\\"Salesperson\\\".\", \"Id\": 290}, \"Secondary\": {\"Phrase\": \"Goal-oriented, constructive communication.\", \"Id\": 26}}, \"Group11\": {\"Primary\": {\"Phrase\": \"Leadership, Charisma\", \"Id\": 6}, \"Secondary\": {\"Phrase\": \"Self-Control, Practicality\", \"Id\": 10}}, \"Group21\": {\"Primary\": {\"Phrase\": \"friendliness\", \"Id\": 11}, \"Secondary\": {\"Phrase\": \"motivation\", \"Id\": 18}}}}, \"end\": 45000, \"offset\": 35000}, {\"duration\": 10000, \"analysis\": {\"Arousal\": {\"Value\": \"47.00\", \"Score\": \"69.00\", \"Group\": \"neutral\"}, \"Temper\": {\"Value\": \"39.00\", \"Score\": \"64.00\", \"Group\": \"medium\"}, \"Valence\": {\"Value\": -1, \"Score\": 0, \"Group\": \"ambiguous\"}, \"Mood\": {\"Composite\": {\"Primary\": {\"Phrase\": \"Friendly closeness. \\\"Salesperson\\\".\", \"Id\": 290}, \"Secondary\": {\"Phrase\": \"Commanding. Authoritative communication.\", \"Id\": 422}}, \"Group11\": {\"Primary\": {\"Phrase\": \"Leadership, Charisma\", \"Id\": 6}, \"Secondary\": {\"Phrase\": \"Supremacy, Arrogance\", \"Id\": 11}}, \"Group21\": {\"Primary\": {\"Phrase\": \"friendliness\", \"Id\": 11}, \"Secondary\": {\"Phrase\": \"dominance\", \"Id\": 8}}}}, \"end\": 50000, \"offset\": 40000}, {\"duration\": 10000, \"analysis\": {\"Arousal\": {\"Value\": \"46.00\", \"Score\": \"70.00\", \"Group\": \"neutral\"}, \"Temper\": {\"Value\": \"39.00\", \"Score\": \"65.00\", \"Group\": \"medium\"}, \"Valence\": {\"Value\": -1, \"Score\": 0, \"Group\": \"ambiguous\"}, \"Mood\": {\"Composite\": {\"Primary\": {\"Phrase\": \"Friendly talkativeness.\", \"Id\": 278}, \"Secondary\": {\"Phrase\": \"Happiness, love, restrained warmth.\", \"Id\": 239}}, \"Group11\": {\"Primary\": {\"Phrase\": \"Friendly, Warm\", \"Id\": 4}, \"Secondary\": {\"Phrase\": \"Love, Happiness\", \"Id\": 8}}, \"Group21\": {\"Primary\": {\"Phrase\": \"friendliness\", \"Id\": 11}, \"Secondary\": {\"Phrase\": \"love\", \"Id\": 17}}}}, \"end\": 55000, \"offset\": 45000}, {\"duration\": 10000, \"analysis\": {\"Arousal\": {\"Value\": \"51.00\", \"Score\": \"72.00\", \"Group\": \"neutral\"}, \"Temper\": {\"Value\": \"44.00\", \"Score\": \"73.00\", \"Group\": \"medium\"}, \"Valence\": {\"Value\": \"40.00\", \"Score\": \"60.00\", \"Group\": \"neutral\"}, \"Mood\": {\"Composite\": {\"Primary\": {\"Phrase\": \"Friendliness, warmth.\", \"Id\": 275}, \"Secondary\": {\"Phrase\": \"Emotional leadership, preaching. Mix of belonging and possessiveness.\", \"Id\": 251}}, \"Group11\": {\"Primary\": {\"Phrase\": \"Friendly, Warm\", \"Id\": 4}, \"Secondary\": {\"Phrase\": \"Leadership, Charisma\", \"Id\": 6}}, \"Group21\": {\"Primary\": {\"Phrase\": \"friendliness\", \"Id\": 11}, \"Secondary\": {\"Phrase\": \"dominance\", \"Id\": 8}}}}, \"end\": 60000, \"offset\": 50000}, {\"duration\": 10000, \"analysis\": {\"Arousal\": {\"Value\": \"51.00\", \"Score\": \"70.00\", \"Group\": \"neutral\"}, \"Temper\": {\"Value\": \"42.00\", \"Score\": \"70.00\", \"Group\": \"medium\"}, \"Valence\": {\"Value\": -1, \"Score\": 0, \"Group\": \"ambiguous\"}, \"Mood\": {\"Composite\": {\"Primary\": {\"Phrase\": \"Strong drive.\", \"Id\": 41}, \"Secondary\": {\"Phrase\": \"Searching for a solution to a problem. Use of imagination.\", \"Id\": 74}}, \"Group11\": {\"Primary\": {\"Phrase\": \"Leadership, Charisma\", \"Id\": 6}, \"Secondary\": {\"Phrase\": \"Creative, Passionate\", \"Id\": 1}}, \"Group21\": {\"Primary\": {\"Phrase\": \"motivation\", \"Id\": 18}, \"Secondary\": {\"Phrase\": \"motivation\", \"Id\": 18}}}}, \"end\": 65000, \"offset\": 55000}, {\"duration\": 10000, \"analysis\": {\"Arousal\": {\"Value\": \"53.00\", \"Score\": \"66.00\", \"Group\": \"neutral\"}, \"Temper\": {\"Value\": \"42.00\", \"Score\": \"68.00\", \"Group\": \"medium\"}, \"Valence\": {\"Value\": -1, \"Score\": 0, \"Group\": \"ambiguous\"}, \"Mood\": {\"Composite\": {\"Primary\": {\"Phrase\": \"Assertive and tough. High self-confidence.\", \"Id\": 71}, \"Secondary\": {\"Phrase\": \"Vision, imagination, devoutness, ideology. Charisma.\", \"Id\": 398}}, \"Group11\": {\"Primary\": {\"Phrase\": \"Leadership, Charisma\", \"Id\": 6}, \"Secondary\": {\"Phrase\": \"Leadership, Charisma\", \"Id\": 6}}, \"Group21\": {\"Primary\": {\"Phrase\": \"dominance\", \"Id\": 8}, \"Secondary\": {\"Phrase\": \"dominance\", \"Id\": 8}}}}, \"end\": 70000, \"offset\": 60000}, {\"duration\": 10000, \"analysis\": {\"Arousal\": {\"Value\": \"49.00\", \"Score\": \"72.00\", \"Group\": \"neutral\"}, \"Temper\": {\"Value\": \"41.00\", \"Score\": \"68.00\", \"Group\": \"medium\"}, \"Valence\": {\"Value\": -1, \"Score\": 0, \"Group\": \"ambiguous\"}, \"Mood\": {\"Composite\": {\"Primary\": {\"Phrase\": \"Command. Stubbornness. Self-confidence.\", \"Id\": 431}, \"Secondary\": {\"Phrase\": \"Enthusiasm. Inspiration. Discovery.\", \"Id\": 392}}, \"Group11\": {\"Primary\": {\"Phrase\": \"Supremacy, Arrogance\", \"Id\": 11}, \"Secondary\": {\"Phrase\": \"Leadership, Charisma\", \"Id\": 6}}, \"Group21\": {\"Primary\": {\"Phrase\": \"dominance\", \"Id\": 8}, \"Secondary\": {\"Phrase\": \"motivation\", \"Id\": 18}}}}, \"end\": 75000, \"offset\": 65000}, {\"duration\": 10000, \"analysis\": {\"Arousal\": {\"Value\": \"46.00\", \"Score\": \"70.00\", \"Group\": \"neutral\"}, \"Temper\": {\"Value\": \"40.00\", \"Score\": \"65.00\", \"Group\": \"medium\"}, \"Valence\": {\"Value\": -1, \"Score\": 0, \"Group\": \"ambiguous\"}, \"Mood\": {\"Composite\": {\"Primary\": {\"Phrase\": \"Use of rich imagination, hope, anticipation.\", \"Id\": 353}, \"Secondary\": {\"Phrase\": \"Pompous. Over excitement. Communication of an empowering feeling.\", \"Id\": 320}}, \"Group11\": {\"Primary\": {\"Phrase\": \"Creative, Passionate\", \"Id\": 1}, \"Secondary\": {\"Phrase\": \"Creative, Passionate\", \"Id\": 1}}, \"Group21\": {\"Primary\": {\"Phrase\": \"creativity\", \"Id\": 5}, \"Secondary\": {\"Phrase\": \"admiration\", \"Id\": 1}}}}, \"end\": 80000, \"offset\": 70000}, {\"duration\": 10000, \"analysis\": {\"Arousal\": {\"Value\": \"53.00\", \"Score\": \"67.00\", \"Group\": \"neutral\"}, \"Temper\": {\"Value\": \"43.00\", \"Score\": \"71.00\", \"Group\": \"medium\"}, \"Valence\": {\"Value\": \"37.00\", \"Score\": \"57.00\", \"Group\": \"neutral\"}, \"Mood\": {\"Composite\": {\"Primary\": {\"Phrase\": \"Communication from deep appreciation. Possibly admiration.\", \"Id\": 350}, \"Secondary\": {\"Phrase\": \"Communication from deep respect. Possibly admiration.\", \"Id\": 317}}, \"Group11\": {\"Primary\": {\"Phrase\": \"Love, Happiness\", \"Id\": 8}, \"Secondary\": {\"Phrase\": \"Love, Happiness\", \"Id\": 8}}, \"Group21\": {\"Primary\": {\"Phrase\": \"admiration\", \"Id\": 1}, \"Secondary\": {\"Phrase\": \"admiration\", \"Id\": 1}}}}, \"end\": 85000, \"offset\": 75000}, {\"duration\": 10000, \"analysis\": {\"Arousal\": {\"Value\": \"51.00\", \"Score\": \"70.00\", \"Group\": \"neutral\"}, \"Temper\": {\"Value\": \"42.00\", \"Score\": \"70.00\", \"Group\": \"medium\"}, \"Valence\": {\"Value\": \"39.00\", \"Score\": \"56.00\", \"Group\": \"neutral\"}, \"Mood\": {\"Composite\": {\"Primary\": {\"Phrase\": \"Internal conflict or confrontational, under control.\", \"Id\": 38}, \"Secondary\": {\"Phrase\": \"Commanding, authoritative communication.\", \"Id\": 323}}, \"Group11\": {\"Primary\": {\"Phrase\": \"Self-Control, Practicality\", \"Id\": 10}, \"Secondary\": {\"Phrase\": \"Supremacy, Arrogance\", \"Id\": 11}}, \"Group21\": {\"Primary\": {\"Phrase\": \"disliking\", \"Id\": 7}, \"Secondary\": {\"Phrase\": \"dominance\", \"Id\": 8}}}}, \"end\": 90000, \"offset\": 80000}, {\"duration\": 10000, \"analysis\": {\"Arousal\": {\"Value\": \"52.00\", \"Score\": \"67.00\", \"Group\": \"neutral\"}, \"Temper\": {\"Value\": \"42.00\", \"Score\": \"68.00\", \"Group\": \"medium\"}, \"Valence\": {\"Value\": -1, \"Score\": 0, \"Group\": \"ambiguous\"}, \"Mood\": {\"Composite\": {\"Primary\": {\"Phrase\": \"Enthusiasm. Inspiration. Discovery.\", \"Id\": 392}, \"Secondary\": {\"Phrase\": \"Command. Stubbornness. Self-confidence.\", \"Id\": 431}}, \"Group11\": {\"Primary\": {\"Phrase\": \"Leadership, Charisma\", \"Id\": 6}, \"Secondary\": {\"Phrase\": \"Supremacy, Arrogance\", \"Id\": 11}}, \"Group21\": {\"Primary\": {\"Phrase\": \"motivation\", \"Id\": 18}, \"Secondary\": {\"Phrase\": \"dominance\", \"Id\": 8}}}}, \"end\": 95000, \"offset\": 85000}, {\"duration\": 10000, \"analysis\": {\"Arousal\": {\"Value\": \"49.00\", \"Score\": \"73.00\", \"Group\": \"neutral\"}, \"Temper\": {\"Value\": \"41.00\", \"Score\": \"67.00\", \"Group\": \"medium\"}, \"Valence\": {\"Value\": -1, \"Score\": 0, \"Group\": \"ambiguous\"}, \"Mood\": {\"Composite\": {\"Primary\": {\"Phrase\": \"Conviction. Enthusiasm based on actions or achievements.\", \"Id\": 212}, \"Secondary\": {\"Phrase\": \"Emotional leadership, preaching. Mix of belonging and possessiveness.\", \"Id\": 251}}, \"Group11\": {\"Primary\": {\"Phrase\": \"Creative, Passionate\", \"Id\": 1}, \"Secondary\": {\"Phrase\": \"Leadership, Charisma\", \"Id\": 6}}, \"Group21\": {\"Primary\": {\"Phrase\": \"belief\", \"Id\": 4}, \"Secondary\": {\"Phrase\": \"dominance\", \"Id\": 8}}}}, \"end\": 100000, \"offset\": 90000}, {\"duration\": 10000, \"analysis\": {\"Arousal\": {\"Value\": \"46.00\", \"Score\": \"70.00\", \"Group\": \"neutral\"}, \"Temper\": {\"Value\": \"41.00\", \"Score\": \"66.00\", \"Group\": \"medium\"}, \"Valence\": {\"Value\": -1, \"Score\": 0, \"Group\": \"ambiguous\"}, \"Mood\": {\"Composite\": {\"Primary\": {\"Phrase\": \"Friendly communication.\", \"Id\": 254}, \"Secondary\": {\"Phrase\": \"Extroverted communication of feelings of happiness, harmony and love.\", \"Id\": 308}}, \"Group11\": {\"Primary\": {\"Phrase\": \"Friendly, Warm\", \"Id\": 4}, \"Secondary\": {\"Phrase\": \"Love, Happiness\", \"Id\": 8}}, \"Group21\": {\"Primary\": {\"Phrase\": \"friendliness\", \"Id\": 11}, \"Secondary\": {\"Phrase\": \"love\", \"Id\": 17}}}}, \"end\": 105000, \"offset\": 95000}, {\"duration\": 10000, \"analysis\": {\"Arousal\": {\"Value\": \"52.00\", \"Score\": \"70.00\", \"Group\": \"neutral\"}, \"Temper\": {\"Value\": \"43.00\", \"Score\": \"71.00\", \"Group\": \"medium\"}, \"Valence\": {\"Value\": \"39.00\", \"Score\": \"55.00\", \"Group\": \"neutral\"}, \"Mood\": {\"Composite\": {\"Primary\": {\"Phrase\": \"Extroverted communication of feelings of happiness, harmony and love.\", \"Id\": 308}, \"Secondary\": {\"Phrase\": \"Friendliness, warmth.\", \"Id\": 275}}, \"Group11\": {\"Primary\": {\"Phrase\": \"Love, Happiness\", \"Id\": 8}, \"Secondary\": {\"Phrase\": \"Friendly, Warm\", \"Id\": 4}}, \"Group21\": {\"Primary\": {\"Phrase\": \"love\", \"Id\": 17}, \"Secondary\": {\"Phrase\": \"friendliness\", \"Id\": 11}}}}, \"end\": 110000, \"offset\": 100000}, {\"duration\": 10000, \"analysis\": {\"Arousal\": {\"Value\": \"49.00\", \"Score\": \"70.00\", \"Group\": \"neutral\"}, \"Temper\": {\"Value\": \"41.00\", \"Score\": \"67.00\", \"Group\": \"medium\"}, \"Valence\": {\"Value\": -1, \"Score\": 0, \"Group\": \"ambiguous\"}, \"Mood\": {\"Composite\": {\"Primary\": {\"Phrase\": \"Missionary leadership. Stubbornness.\", \"Id\": 428}, \"Secondary\": {\"Phrase\": \"Authoritative.\", \"Id\": 287}}, \"Group11\": {\"Primary\": {\"Phrase\": \"Leadership, Charisma\", \"Id\": 6}, \"Secondary\": {\"Phrase\": \"Leadership, Charisma\", \"Id\": 6}}, \"Group21\": {\"Primary\": {\"Phrase\": \"dominance\", \"Id\": 8}, \"Secondary\": {\"Phrase\": \"dominance\", \"Id\": 8}}}}, \"end\": 115000, \"offset\": 105000}, {\"duration\": 10000, \"analysis\": {\"Arousal\": {\"Value\": \"46.00\", \"Score\": \"66.00\", \"Group\": \"neutral\"}, \"Temper\": {\"Value\": \"39.00\", \"Score\": \"63.00\", \"Group\": \"medium\"}, \"Valence\": {\"Value\": \"36.00\", \"Score\": \"57.00\", \"Group\": \"neutral\"}, \"Mood\": {\"Composite\": {\"Primary\": {\"Phrase\": \"Fake enthusiasm.\", \"Id\": 176}, \"Secondary\": {\"Phrase\": \"Sense of purpose, ideological belief.\", \"Id\": 137}}, \"Group11\": {\"Primary\": {\"Phrase\": \"Creative, Passionate\", \"Id\": 1}, \"Secondary\": {\"Phrase\": \"Creative, Passionate\", \"Id\": 1}}, \"Group21\": {\"Primary\": {\"Phrase\": \"egoism\", \"Id\": 9}, \"Secondary\": {\"Phrase\": \"belief\", \"Id\": 4}}}}, \"end\": 120000, \"offset\": 110000}, {\"duration\": 10000, \"analysis\": {\"Arousal\": {\"Value\": \"45.00\", \"Score\": \"67.00\", \"Group\": \"neutral\"}, \"Temper\": {\"Value\": \"38.00\", \"Score\": \"63.00\", \"Group\": \"medium\"}, \"Valence\": {\"Value\": \"38.00\", \"Score\": \"56.00\", \"Group\": \"neutral\"}, \"Mood\": {\"Composite\": {\"Primary\": {\"Phrase\": \"Communication from deep respect. Possibly admiration.\", \"Id\": 317}, \"Secondary\": {\"Phrase\": \"Creative communication. Optimism.\", \"Id\": 263}}, \"Group11\": {\"Primary\": {\"Phrase\": \"Love, Happiness\", \"Id\": 8}, \"Secondary\": {\"Phrase\": \"Friendly, Warm\", \"Id\": 4}}, \"Group21\": {\"Primary\": {\"Phrase\": \"admiration\", \"Id\": 1}, \"Secondary\": {\"Phrase\": \"happiness\", \"Id\": 12}}}}, \"end\": 125000, \"offset\": 115000}, {\"duration\": 10000, \"analysis\": {\"Arousal\": {\"Value\": \"48.00\", \"Score\": \"69.00\", \"Group\": \"neutral\"}, \"Temper\": {\"Value\": \"40.00\", \"Score\": \"65.00\", \"Group\": \"medium\"}, \"Valence\": {\"Value\": -1, \"Score\": 0, \"Group\": \"ambiguous\"}, \"Mood\": {\"Composite\": {\"Primary\": {\"Phrase\": \"Blabbering, friendship and warmth.\", \"Id\": 311}, \"Secondary\": {\"Phrase\": \"Warm communication. Feeling of reciprocity.\", \"Id\": 269}}, \"Group11\": {\"Primary\": {\"Phrase\": \"Friendly, Warm\", \"Id\": 4}, \"Secondary\": {\"Phrase\": \"Friendly, Warm\", \"Id\": 4}}, \"Group21\": {\"Primary\": {\"Phrase\": \"friendliness\", \"Id\": 11}, \"Secondary\": {\"Phrase\": \"friendliness\", \"Id\": 11}}}}, \"end\": 130000, \"offset\": 120000}, {\"duration\": 10000, \"analysis\": {\"Arousal\": {\"Value\": \"47.00\", \"Score\": \"69.00\", \"Group\": \"neutral\"}, \"Temper\": {\"Value\": \"39.00\", \"Score\": \"64.00\", \"Group\": \"medium\"}, \"Valence\": {\"Value\": -1, \"Score\": 0, \"Group\": \"ambiguous\"}, \"Mood\": {\"Composite\": {\"Primary\": {\"Phrase\": \"Possessiveness. Ownership. Authoritative.\", \"Id\": 107}, \"Secondary\": {\"Phrase\": \"Action from conviction. Leadership.\", \"Id\": 173}}, \"Group11\": {\"Primary\": {\"Phrase\": \"Supremacy, Arrogance\", \"Id\": 11}, \"Secondary\": {\"Phrase\": \"Leadership, Charisma\", \"Id\": 6}}, \"Group21\": {\"Primary\": {\"Phrase\": \"dominance\", \"Id\": 8}, \"Secondary\": {\"Phrase\": \"belief\", \"Id\": 4}}}}, \"end\": 135000, \"offset\": 125000}, {\"duration\": 10000, \"analysis\": {\"Arousal\": {\"Value\": \"49.00\", \"Score\": \"67.00\", \"Group\": \"neutral\"}, \"Temper\": {\"Value\": \"40.00\", \"Score\": \"66.00\", \"Group\": \"medium\"}, \"Valence\": {\"Value\": -1, \"Score\": 0, \"Group\": \"ambiguous\"}, \"Mood\": {\"Composite\": {\"Primary\": {\"Phrase\": \"Instinctive excitement.\", \"Id\": 83}, \"Secondary\": {\"Phrase\": \"Restrained emotions, self-control.\", \"Id\": 122}}, \"Group11\": {\"Primary\": {\"Phrase\": \"Creative, Passionate\", \"Id\": 1}, \"Secondary\": {\"Phrase\": \"Self-Control, Practicality\", \"Id\": 10}}, \"Group21\": {\"Primary\": {\"Phrase\": \"happiness\", \"Id\": 12}, \"Secondary\": {\"Phrase\": \"self control\", \"Id\": 19}}}}, \"end\": 140000, \"offset\": 130000}]}}\n"
     ]
    }
   ],
   "source": [
    "\n",
    "\n",
    "import requests \n",
    "requests.packages.urllib3.disable_warnings()\n",
    "import json\n",
    "\n",
    "def getAnalysis(API_Key,WavPath):\n",
    "    res = requests.post(\"https://token.beyondverbal.com/token\",data={\"grant_type\":\"client_credentials\",\"apiKey\":API_Key})\n",
    "    token = res.json()['access_token']\n",
    "    headers={\"Authorization\":\"Bearer \"+token}\n",
    "    pp = requests.post(\"https://apiv4.beyondverbal.com/v3/recording/start\",json={\"dataFormat\": { \"type\":\"WAV\" }},verify=False,headers=headers)\n",
    "    if pp.status_code != 200:\n",
    "        print(pp.status_code, pp.content)\n",
    "        return\n",
    "    recordingId = pp.json()['recordingId']\n",
    "    with open(WavPath,'rb') as wavdata:\n",
    "        r = requests.post(\"https://apiv4.beyondverbal.com/v3/recording/\"+recordingId,data=wavdata, verify=False, headers=headers)\n",
    "        return r.json()\n",
    "    \n",
    "# Test    \n",
    "# 4a34bb65-5bfd-4006-af26-64aa63055b8b\n",
    "res = getAnalysis(\"4a34bb65-5bfd-4006-af26-64aa63055b8b\", wavDirPath+wavArr[0])\n",
    "print(json.dumps(res))\n",
    "# res = getAnalysis(\"ee1e2100-52f3-49aa-896c-ac56cd62a5c1\",\"data/wave/642/test.wav\")\n",
    "#print json.dumps(res)\n"
   ]
  },
  {
   "cell_type": "code",
   "execution_count": null,
   "metadata": {},
   "outputs": [
    {
     "name": "stdout",
     "output_type": "stream",
     "text": [
      "creating emotion json file for: 20170623080540_956_13668204817_601.wav\n",
      "successfully created/Users/Chen/百度云同步盘/Startup/Clevo/联动数据/emotionJson/20170623080540_956_13668204817_601.json\n",
      "creating emotion json file for: 20170623082125_956_18241056366_601.wav\n",
      "successfully created/Users/Chen/百度云同步盘/Startup/Clevo/联动数据/emotionJson/20170623082125_956_18241056366_601.json\n",
      "creating emotion json file for: 20170623083248_956_15998220881_601.wav\n",
      "successfully created/Users/Chen/百度云同步盘/Startup/Clevo/联动数据/emotionJson/20170623083248_956_15998220881_601.json\n",
      "creating emotion json file for: 20170623083311_957_15141436288_601.wav\n",
      "successfully created/Users/Chen/百度云同步盘/Startup/Clevo/联动数据/emotionJson/20170623083311_957_15141436288_601.json\n",
      "creating emotion json file for: 20170623083455_956_18389875052_601.wav\n",
      "successfully created/Users/Chen/百度云同步盘/Startup/Clevo/联动数据/emotionJson/20170623083455_956_18389875052_601.json\n",
      "creating emotion json file for: 20170623083643_957_13541323975_601.wav\n",
      "successfully created/Users/Chen/百度云同步盘/Startup/Clevo/联动数据/emotionJson/20170623083643_957_13541323975_601.json\n",
      "creating emotion json file for: 20170623083844_956_15727639043_601.wav\n",
      "successfully created/Users/Chen/百度云同步盘/Startup/Clevo/联动数据/emotionJson/20170623083844_956_15727639043_601.json\n",
      "creating emotion json file for: 20170623085308_956_13898756186_601.wav\n"
     ]
    }
   ],
   "source": [
    "# from os.path import basename\n",
    "import os\n",
    "\n",
    "\n",
    "# from os import listdir\n",
    "# files = map(lambda x: x.split(\".\")[0], listdir(\"data/wav\"))\n",
    "# jsons = map(lambda x: x.split(\".\")[0], listdir(\"data/json\"))\n",
    "# jsonArr\n",
    "# wavArr\n",
    "for f in wavArr:\n",
    "    basename = os.path.basename(f)\n",
    "    baseWithoutExtension = os.path.splitext(basename)[0]\n",
    "\n",
    "#     with open(jsonDirPath + baseWithoutExtension + \".json\", 'w') as outfile:\n",
    "#         json.dump({\"res\":\"ABC\"}, outfile)\n",
    "    if baseWithoutExtension in jsonArr:\n",
    "        print(baseWithoutExtension + \" file has already called\")\n",
    "    else:\n",
    "        print(\"creating emotion json file for: \" + f)\n",
    "\n",
    "        # 4a34bb65-5bfd-4006-af26-64aa63055b8b\n",
    "        res = getAnalysis(\"ee1e2100-52f3-49aa-896c-ac56cd62a5c1\",wavDirPath + basename)\n",
    "#         print(res)\n",
    "#         print(jsonDirPath + baseWithoutExtension + \".json\")\n",
    "#         print(len(str(res)))\n",
    "        if res!=None and len(str(res))>1000:\n",
    "            with open(jsonDirPath + baseWithoutExtension + \".json\", 'w') as outfile:\n",
    "                json.dump(res, outfile)\n",
    "                print(\"successfully created\" + jsonDirPath + baseWithoutExtension + \".json\")\n",
    "\n",
    "\n"
   ]
  },
  {
   "cell_type": "code",
   "execution_count": null,
   "metadata": {
    "collapsed": true
   },
   "outputs": [],
   "source": []
  }
 ],
 "metadata": {
  "kernelspec": {
   "display_name": "Python 3",
   "language": "python",
   "name": "python3"
  },
  "language_info": {
   "codemirror_mode": {
    "name": "ipython",
    "version": 3
   },
   "file_extension": ".py",
   "mimetype": "text/x-python",
   "name": "python",
   "nbconvert_exporter": "python",
   "pygments_lexer": "ipython3",
   "version": "3.5.4"
  }
 },
 "nbformat": 4,
 "nbformat_minor": 2
}
